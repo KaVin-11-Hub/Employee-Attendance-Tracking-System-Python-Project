{
 "cells": [
  {
   "cell_type": "code",
   "execution_count": 1,
   "id": "de41d37a-4560-406e-96db-6c36b889c30f",
   "metadata": {},
   "outputs": [
    {
     "name": "stdout",
     "output_type": "stream",
     "text": [
      "1. Take attendance\n",
      "2. Print attendance\n",
      "3. Exit\n"
     ]
    },
    {
     "name": "stdin",
     "output_type": "stream",
     "text": [
      "Enter your choice:  1\n",
      "Enter the date (YYYY-MM-DD):  2024-05-30\n"
     ]
    },
    {
     "name": "stdout",
     "output_type": "stream",
     "text": [
      "Mark attendance for allan\n"
     ]
    },
    {
     "name": "stdin",
     "output_type": "stream",
     "text": [
      "Enter attendance status (Present/Absent):  present\n"
     ]
    },
    {
     "name": "stdout",
     "output_type": "stream",
     "text": [
      "Mark attendance for garry\n"
     ]
    },
    {
     "name": "stdin",
     "output_type": "stream",
     "text": [
      "Enter attendance status (Present/Absent):  absent\n"
     ]
    },
    {
     "name": "stdout",
     "output_type": "stream",
     "text": [
      "Mark attendance for uzhumaki\n"
     ]
    },
    {
     "name": "stdin",
     "output_type": "stream",
     "text": [
      "Enter attendance status (Present/Absent):  present\n"
     ]
    },
    {
     "name": "stdout",
     "output_type": "stream",
     "text": [
      "1. Take attendance\n",
      "2. Print attendance\n",
      "3. Exit\n"
     ]
    },
    {
     "name": "stdin",
     "output_type": "stream",
     "text": [
      "Enter your choice:  2\n"
     ]
    },
    {
     "name": "stdout",
     "output_type": "stream",
     "text": [
      "Attendance record for allan:\n",
      "2024-05-30: present\n",
      "Attendance record for garry:\n",
      "2024-05-30: absent\n",
      "Attendance record for uzhumaki:\n",
      "2024-05-30: present\n",
      "1. Take attendance\n",
      "2. Print attendance\n",
      "3. Exit\n"
     ]
    },
    {
     "name": "stdin",
     "output_type": "stream",
     "text": [
      "Enter your choice:  3\n"
     ]
    }
   ],
   "source": [
    "class Employee:\n",
    "    def __init__(self, name):\n",
    "        self.name = name\n",
    "        self.attendance = {}  # Initialize the attendance attribute as an empty dictionary\n",
    "\n",
    "    def mark_attendance(self, date, status):\n",
    "        self.attendance[date] = status\n",
    "\n",
    "def take_attendance(employees):\n",
    "    date = input(\"Enter the date (YYYY-MM-DD): \")\n",
    "    for emp in employees:\n",
    "        print(f\"Mark attendance for {emp.name}\")\n",
    "        status = input(\"Enter attendance status (Present/Absent): \").lower()\n",
    "        emp.mark_attendance(date, status)\n",
    "\n",
    "def print_attendance(employees):\n",
    "    for emp in employees:\n",
    "        print(f\"Attendance record for {emp.name}:\")\n",
    "        for date, status in emp.attendance.items():\n",
    "            print(f\"{date}: {status}\")\n",
    "\n",
    "def main():\n",
    "    employees = [\n",
    "        Employee(\"allan\"),\n",
    "        Employee(\"garry\"),\n",
    "        Employee(\"uzhumaki\")\n",
    "    ]\n",
    "    \n",
    "    while True:\n",
    "        print(\"1. Take attendance\")\n",
    "        print(\"2. Print attendance\")\n",
    "        print(\"3. Exit\")\n",
    "        \n",
    "        choice = input(\"Enter your choice: \")\n",
    "        if choice == '1':\n",
    "            take_attendance(employees)\n",
    "        elif choice == '2':\n",
    "            print_attendance(employees)\n",
    "        elif choice == '3':\n",
    "            break\n",
    "        else:\n",
    "            print(\"Invalid choice. Please try again.\")\n",
    "\n",
    "a = main()\n"
   ]
  },
  {
   "cell_type": "code",
   "execution_count": null,
   "id": "0c25fdea-b73a-4ce1-ac18-db8a9931e474",
   "metadata": {},
   "outputs": [],
   "source": []
  }
 ],
 "metadata": {
  "kernelspec": {
   "display_name": "Python 3 (ipykernel)",
   "language": "python",
   "name": "python3"
  },
  "language_info": {
   "codemirror_mode": {
    "name": "ipython",
    "version": 3
   },
   "file_extension": ".py",
   "mimetype": "text/x-python",
   "name": "python",
   "nbconvert_exporter": "python",
   "pygments_lexer": "ipython3",
   "version": "3.11.7"
  }
 },
 "nbformat": 4,
 "nbformat_minor": 5
}
